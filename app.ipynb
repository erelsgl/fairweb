{
 "cells": [
  {
   "cell_type": "code",
   "execution_count": 98,
   "metadata": {},
   "outputs": [
    {
     "name": "stdout",
     "output_type": "stream",
     "text": [
      "Rows:  1000 Cols:  27\n",
      "[['מפלגה  v  ', 'מנדטים v   משרד >', 'חוץ', 'בטחון', 'אוצר', 'בט\"פ', 'משפטים', 'פנים', 'בריאות', '', 'סה\"כ'], ['הליכוד', '32', '20', '20', '20', '10', '10', '10', '10', '', '100'], ['הציונות הדתית', '14', '10', '20', '10', '30', '20', '10', '20', '', '120'], ['ש\"ס', '11', '5', '5', '20', '5', '10', '30', '20', '', '95'], ['אגודת ישראל', '7', '5', '5', '5', '5', '5', '10', '20', '', '55'], ['סה\"כ', '64', '', '', '', '', '', '', '', '', '']]\n"
     ]
    }
   ],
   "source": [
    "import gspread\n",
    "import fairpy\n",
    "\n",
    "account = gspread.service_account(\"credentials.json\")\n",
    "spreadsheet = account.open(\"FairDivision\")\n",
    "input = spreadsheet.worksheet(\"input\")\n",
    "print(\"Rows: \", input.row_count, \"Cols: \", input.col_count)\n",
    "rows = input.get_all_values()\n",
    "print(rows)"
   ]
  },
  {
   "cell_type": "code",
   "execution_count": 99,
   "metadata": {},
   "outputs": [
    {
     "data": {
      "text/plain": [
       "{'spreadsheetId': '1tJPV-y-r1TAx5FqbrqecKPJMeKHTtIDeiYck8eLoGKY',\n",
       " 'updatedRange': 'output!A1:K6',\n",
       " 'updatedRows': 6,\n",
       " 'updatedColumns': 11,\n",
       " 'updatedCells': 66}"
      ]
     },
     "execution_count": 99,
     "metadata": {},
     "output_type": "execute_result"
    }
   ],
   "source": [
    "\n",
    "try:\n",
    "\toutput = spreadsheet.worksheet(\"output\")\n",
    "except gspread.WorksheetNotFound:\n",
    "\toutput = spreadsheet.add_worksheet(title=\"output\", rows=len(agents)+2, cols=len(items)+3)\n",
    "\t# TODO: change worksheet direction to RTL\n",
    "\t# I did not find here https://docs.gspread.org/en/latest/api/models/worksheet.html#id1   how to do this.\n",
    "input_range = input.range(1, 1, len(rows), len(rows[0]))\n",
    "output.update_cells(input_range)\n"
   ]
  },
  {
   "cell_type": "markdown",
   "metadata": {},
   "source": [
    "## Read input"
   ]
  },
  {
   "cell_type": "code",
   "execution_count": 106,
   "metadata": {},
   "outputs": [
    {
     "name": "stdout",
     "output_type": "stream",
     "text": [
      "items:  ['חוץ', 'בטחון', 'אוצר', 'בט\"פ', 'משפטים', 'פנים', 'בריאות']\n"
     ]
    }
   ],
   "source": [
    "items = rows[0][2:-1]  # remove agent names, entitlements, and total\n",
    "items.remove('')\n",
    "print(\"items: \", items)"
   ]
  },
  {
   "cell_type": "code",
   "execution_count": 107,
   "metadata": {},
   "outputs": [
    {
     "name": "stdout",
     "output_type": "stream",
     "text": [
      "agents:  ['הליכוד', 'הציונות הדתית', 'ש\"ס', 'אגודת ישראל']\n"
     ]
    }
   ],
   "source": [
    "rows_of_agents = rows[1:-1]    # remove item names and total\n",
    "agents = [row[0] for row in rows_of_agents]         \n",
    "print(\"agents: \", agents)"
   ]
  },
  {
   "cell_type": "code",
   "execution_count": 139,
   "metadata": {},
   "outputs": [
    {
     "name": "stdout",
     "output_type": "stream",
     "text": [
      "entitlements:  {'הליכוד': 32, 'הציונות הדתית': 14, 'ש\"ס': 11, 'אגודת ישראל': 7} , total:  64\n"
     ]
    }
   ],
   "source": [
    "entitlements = [int(row[1]) for row in rows_of_agents]\n",
    "total_entitlements = sum(entitlements)\n",
    "map_agent_to_entitlement = {agents[i]: entitlements[i] for i in range(len(agents))}\n",
    "print(\"entitlements: \", map_agent_to_entitlement, \", total: \", total_entitlements)"
   ]
  },
  {
   "cell_type": "code",
   "execution_count": 128,
   "metadata": {},
   "outputs": [
    {
     "name": "stdout",
     "output_type": "stream",
     "text": [
      "raw_preferences:  {'הליכוד': {'חוץ': 20.0, 'בטחון': 20.0, 'אוצר': 20.0, 'בט\"פ': 10.0, 'משפטים': 10.0, 'פנים': 10.0, 'בריאות': 10.0}, 'הציונות הדתית': {'חוץ': 10.0, 'בטחון': 20.0, 'אוצר': 10.0, 'בט\"פ': 30.0, 'משפטים': 20.0, 'פנים': 10.0, 'בריאות': 20.0}, 'ש\"ס': {'חוץ': 5.0, 'בטחון': 5.0, 'אוצר': 20.0, 'בט\"פ': 5.0, 'משפטים': 10.0, 'פנים': 30.0, 'בריאות': 20.0}, 'אגודת ישראל': {'חוץ': 5.0, 'בטחון': 5.0, 'אוצר': 5.0, 'בט\"פ': 5.0, 'משפטים': 5.0, 'פנים': 10.0, 'בריאות': 20.0}}\n"
     ]
    }
   ],
   "source": [
    "def row_to_prefs(row:list)->list:\n",
    "\tprefs_list = row[2:-1]   # Remove party name, party entitlement, and total\n",
    "\tprefs_dict = {}\n",
    "\tfor o in range(len(items)):\n",
    "\t\tvalue = prefs_list[o]\n",
    "\t\tvalue = 0.0 if value=='' else float(value)\n",
    "\t\tprefs_dict[items[o]] = value\n",
    "\treturn prefs_dict\n",
    "raw_preferences = {row[0]: row_to_prefs(row) for row in rows_of_agents}\n",
    "print(\"raw_preferences: \",raw_preferences)"
   ]
  },
  {
   "cell_type": "code",
   "execution_count": 147,
   "metadata": {},
   "outputs": [
    {
     "name": "stdout",
     "output_type": "stream",
     "text": [
      "הליכוד :\t\t {'חוץ': 12.8, 'בטחון': 12.8, 'אוצר': 12.8, 'בט\"פ': 6.4, 'משפטים': 6.4, 'פנים': 6.4, 'בריאות': 6.4} \t\t 64.0\n",
      "הציונות הדתית :\t\t {'חוץ': 5.333333333333333, 'בטחון': 10.666666666666666, 'אוצר': 5.333333333333333, 'בט\"פ': 16.0, 'משפטים': 10.666666666666666, 'פנים': 5.333333333333333, 'בריאות': 10.666666666666666} \t\t 63.99999999999999\n",
      "ש\"ס :\t\t {'חוץ': 3.3684210526315788, 'בטחון': 3.3684210526315788, 'אוצר': 13.473684210526315, 'בט\"פ': 3.3684210526315788, 'משפטים': 6.7368421052631575, 'פנים': 20.210526315789473, 'בריאות': 13.473684210526315} \t\t 64.0\n",
      "אגודת ישראל :\t\t {'חוץ': 5.818181818181818, 'בטחון': 5.818181818181818, 'אוצר': 5.818181818181818, 'בט\"פ': 5.818181818181818, 'משפטים': 5.818181818181818, 'פנים': 11.636363636363637, 'בריאות': 23.272727272727273} \t\t 64.0\n"
     ]
    }
   ],
   "source": [
    "def normalized_prefs(prefs, new_sum):\n",
    "\tcurrent_sum = sum(prefs.values())\n",
    "\tratio = new_sum/current_sum\n",
    "\treturn {item: value*ratio for item,value in prefs.items()}\n",
    "\t\n",
    "normalized_preferences = {\n",
    "\tagent: normalized_prefs(prefs, total_entitlements) for agent,prefs in raw_preferences.items()\n",
    "}\n",
    "for agent,prefs in normalized_preferences.items():\n",
    "\tprint(agent, \":\\t\\t\", prefs, \"\\t\\t\", sum(prefs.values()))"
   ]
  },
  {
   "cell_type": "code",
   "execution_count": 148,
   "metadata": {},
   "outputs": [
    {
     "name": "stdout",
     "output_type": "stream",
     "text": [
      "הליכוד :\t\t {'חוץ': 0.4, 'בטחון': 0.4, 'אוצר': 0.4, 'בט\"פ': 0.2, 'משפטים': 0.2, 'פנים': 0.2, 'בריאות': 0.2} \t\t 2.0\n",
      "הציונות הדתית :\t\t {'חוץ': 0.38095238095238093, 'בטחון': 0.7619047619047619, 'אוצר': 0.38095238095238093, 'בט\"פ': 1.1428571428571428, 'משפטים': 0.7619047619047619, 'פנים': 0.38095238095238093, 'בריאות': 0.7619047619047619} \t\t 4.571428571428571\n",
      "ש\"ס :\t\t {'חוץ': 0.3062200956937799, 'בטחון': 0.3062200956937799, 'אוצר': 1.2248803827751196, 'בט\"פ': 0.3062200956937799, 'משפטים': 0.6124401913875598, 'פנים': 1.8373205741626795, 'בריאות': 1.2248803827751196} \t\t 5.818181818181818\n",
      "אגודת ישראל :\t\t {'חוץ': 0.8311688311688312, 'בטחון': 0.8311688311688312, 'אוצר': 0.8311688311688312, 'בט\"פ': 0.8311688311688312, 'משפטים': 0.8311688311688312, 'פנים': 1.6623376623376624, 'בריאות': 3.324675324675325} \t\t 9.142857142857142\n"
     ]
    }
   ],
   "source": [
    "entitlement_normalized_preferences = {\n",
    "\tagent: normalized_prefs(prefs, total_entitlements / map_agent_to_entitlement[agent]) for agent,prefs in raw_preferences.items()\n",
    "}\n",
    "for agent,prefs in entitlement_normalized_preferences.items():\n",
    "\tprint(agent, \":\\t\\t\", prefs, \"\\t\\t\", sum(prefs.values()))"
   ]
  },
  {
   "cell_type": "code",
   "execution_count": 149,
   "metadata": {},
   "outputs": [
    {
     "data": {
      "text/plain": [
       "הליכוד gets { 100.0% of חוץ, 100.0% of בטחון, 100.0% of אוצר, 100.0% of משפטים, 20.156% of פנים, 13.335% of בריאות} with value 1.47.\n",
       "הציונות הדתית gets { 100.0% of בט\"פ, 42.541% of בריאות} with value 1.47.\n",
       "ש\"ס gets { 79.844% of פנים} with value 1.47.\n",
       "אגודת ישראל gets { 44.124% of בריאות} with value 1.47."
      ]
     },
     "execution_count": 149,
     "metadata": {},
     "output_type": "execute_result"
    }
   ],
   "source": [
    "allocation = fairpy.items.leximin_optimal_allocation(entitlement_normalized_preferences)\n",
    "allocation"
   ]
  },
  {
   "cell_type": "code",
   "execution_count": 150,
   "metadata": {},
   "outputs": [
    {
     "data": {
      "text/plain": [
       "{'הליכוד': array([ 1.        ,  1.        ,  1.        , -0.        ,  1.        ,\n",
       "         0.20156449,  0.13334546]),\n",
       " 'הציונות הדתית': array([-0.        , -0.        , -0.        ,  1.        , -0.        ,\n",
       "        -0.        ,  0.42541386]),\n",
       " 'ש\"ס': array([-0.        , -0.        , -0.        , -0.        , -0.        ,\n",
       "         0.79843551, -0.        ]),\n",
       " 'אגודת ישראל': array([-0.        , -0.        , -0.        , -0.        , -0.        ,\n",
       "        -0.        ,  0.44124068])}"
      ]
     },
     "execution_count": 150,
     "metadata": {},
     "output_type": "execute_result"
    }
   ],
   "source": [
    "map_agent_to_fractions = {agents[i]: allocation.bundles[i].fractions for i in range(len(agents))}\n",
    "map_agent_to_fractions"
   ]
  },
  {
   "cell_type": "markdown",
   "metadata": {},
   "source": [
    "## Create output"
   ]
  },
  {
   "cell_type": "markdown",
   "metadata": {},
   "source": []
  },
  {
   "cell_type": "code",
   "execution_count": 152,
   "metadata": {},
   "outputs": [
    {
     "name": "stdout",
     "output_type": "stream",
     "text": [
      "הליכוד :  [ 1.          1.          1.         -0.          1.          0.20156449\n",
      "  0.13334546]\n",
      "הציונות הדתית :  [-0.         -0.         -0.          1.         -0.         -0.\n",
      "  0.42541386]\n",
      "ש\"ס :  [-0.         -0.         -0.         -0.         -0.          0.79843551\n",
      " -0.        ]\n",
      "אגודת ישראל :  [-0.         -0.         -0.         -0.         -0.         -0.\n",
      "  0.44124068]\n"
     ]
    }
   ],
   "source": [
    "for i in range(len(agents)):\n",
    "\tbundle_i = map_agent_to_fractions[agents[i]]\n",
    "\tprint(agents[i], \": \", bundle_i)\n",
    "\tfor o in range(len(items)):\n",
    "\t\tfraction_i_o = map_agent_to_fractions[agents[i]][o]\n",
    "\t\t# print(fraction_i_o)\n",
    "\t\toutput.update_cell(i+2, o+3, fraction_i_o)"
   ]
  },
  {
   "cell_type": "code",
   "execution_count": 164,
   "metadata": {},
   "outputs": [],
   "source": [
    "# Insert formula for computing the utilities:\n",
    "utility_column = len(items)+4\n",
    "output.update_cell(1, utility_column, \"תועלת באחוזים\")\n",
    "output.update_cell(1, utility_column+1, \"תועלת ביחס למנדטים\")\n",
    "\n",
    "\n",
    "for i in range(len(agents)):\n",
    "\t# output.update_cell(i+2, utility_column, utility_profile[i])\n",
    "\trow_num = i+2\n",
    "\tfirst_cell = gspread.utils.rowcol_to_a1(row_num, 3)\n",
    "\tlast_cell = gspread.utils.rowcol_to_a1(row_num, len(items)+2)\n",
    "\trange_a1 = f\"{first_cell}:{last_cell}\"\n",
    "\toutput.update_cell(row_num, utility_column, f\"=SUMPRODUCT(input!{range_a1},output!{range_a1})/sum(input!{range_a1})\")\n",
    "\tutility_cell = gspread.utils.rowcol_to_a1(row_num, utility_column)\n",
    "\toutput.format(utility_cell, {\"numberFormat\": {\"type\": \"PERCENT\", \"pattern\": \"##.#%\"}})\n",
    "\tentitlement_cell = gspread.utils.rowcol_to_a1(row_num, 2)\n",
    "\toutput.update_cell(row_num, utility_column+1, f\"={utility_cell}/{entitlement_cell}*100\")\n",
    "\t# utility_per_entitlement_cell = gspread.utils.rowcol_to_a1(row_num, utility_column+1)\n",
    "\t# output.format(utility_per_entitlement_cell, {\"numberFormat\": {\"type\": \"PERCENT\", \"pattern\": \"##.#%\"}})"
   ]
  }
 ],
 "metadata": {
  "kernelspec": {
   "display_name": "Python 3.8.10 ('.venv38linux': venv)",
   "language": "python",
   "name": "python3"
  },
  "language_info": {
   "codemirror_mode": {
    "name": "ipython",
    "version": 3
   },
   "file_extension": ".py",
   "mimetype": "text/x-python",
   "name": "python",
   "nbconvert_exporter": "python",
   "pygments_lexer": "ipython3",
   "version": "3.8.10"
  },
  "orig_nbformat": 4,
  "vscode": {
   "interpreter": {
    "hash": "6cd4aa5b12eabc8e5049b78ef7f0922161955dd7fc4450fb6e653aecfe5984bc"
   }
  }
 },
 "nbformat": 4,
 "nbformat_minor": 2
}
