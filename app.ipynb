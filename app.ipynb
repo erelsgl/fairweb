{
 "cells": [
  {
   "cell_type": "code",
   "execution_count": 1,
   "metadata": {},
   "outputs": [
    {
     "data": {
      "text/plain": [
       "<Spreadsheet 'FairDivision' id:1tJPV-y-r1TAx5FqbrqecKPJMeKHTtIDeiYck8eLoGKY>"
      ]
     },
     "execution_count": 1,
     "metadata": {},
     "output_type": "execute_result"
    }
   ],
   "source": [
    "import gspread, logging\n",
    "account = gspread.service_account(\"credentials.json\")\n",
    "spreadsheet = account.open(\"FairDivision\")\n",
    "spreadsheet"
   ]
  },
  {
   "cell_type": "code",
   "execution_count": 2,
   "metadata": {},
   "outputs": [
    {
     "name": "stderr",
     "output_type": "stream",
     "text": [
      "Rows: 1000, Cols: 28\n",
      "items: ['חוץ', 'בטחון', 'אוצר', 'בט\"פ', 'משפטים', 'פנים', 'בריאות', 'חינוך']\n",
      "agents: ['הליכוד', 'הציונות הדתית', 'ש\"ס', 'אגודת ישראל']\n",
      "entitlements: {'הליכוד': 32, 'הציונות הדתית': 14, 'ש\"ס': 11, 'אגודת ישראל': 7}, total: 64.000000\n",
      "raw_preferences: \n",
      "\tהליכוד:\t\t{'חוץ': 20.0, 'בטחון': 20.0, 'אוצר': 20.0, 'בט\"פ': 10.0, 'משפטים': 10.0, 'פנים': 10.0, 'בריאות': 10.0, 'חינוך': 20.0}\t\t120.000000\n",
      "\tהציונות הדתית:\t\t{'חוץ': 10.0, 'בטחון': 20.0, 'אוצר': 10.0, 'בט\"פ': 30.0, 'משפטים': 20.0, 'פנים': 10.0, 'בריאות': 20.0, 'חינוך': 20.0}\t\t140.000000\n",
      "\tש\"ס:\t\t{'חוץ': 5.0, 'בטחון': 5.0, 'אוצר': 20.0, 'בט\"פ': 5.0, 'משפטים': 10.0, 'פנים': 30.0, 'בריאות': 20.0, 'חינוך': 20.0}\t\t115.000000\n",
      "\tאגודת ישראל:\t\t{'חוץ': 5.0, 'בטחון': 5.0, 'אוצר': 5.0, 'בט\"פ': 5.0, 'משפטים': 5.0, 'פנים': 10.0, 'בריאות': 20.0, 'חינוך': 20.0}\t\t75.000000\n",
      "normalized_preferences: \n",
      "\tהליכוד:\t\t{'חוץ': 10.667, 'בטחון': 10.667, 'אוצר': 10.667, 'בט\"פ': 5.333, 'משפטים': 5.333, 'פנים': 5.333, 'בריאות': 5.333, 'חינוך': 10.667}\t\t64.000000\n",
      "\tהציונות הדתית:\t\t{'חוץ': 4.571, 'בטחון': 9.143, 'אוצר': 4.571, 'בט\"פ': 13.714, 'משפטים': 9.143, 'פנים': 4.571, 'בריאות': 9.143, 'חינוך': 9.143}\t\t63.999000\n",
      "\tש\"ס:\t\t{'חוץ': 2.783, 'בטחון': 2.783, 'אוצר': 11.13, 'בט\"פ': 2.783, 'משפטים': 5.565, 'פנים': 16.696, 'בריאות': 11.13, 'חינוך': 11.13}\t\t64.000000\n",
      "\tאגודת ישראל:\t\t{'חוץ': 4.267, 'בטחון': 4.267, 'אוצר': 4.267, 'בט\"פ': 4.267, 'משפטים': 4.267, 'פנים': 8.533, 'בריאות': 17.067, 'חינוך': 17.067}\t\t64.002000\n",
      "entitlement_normalized_preferences: \n",
      "\tהליכוד:\t\t{'חוץ': 0.333, 'בטחון': 0.333, 'אוצר': 0.333, 'בט\"פ': 0.167, 'משפטים': 0.167, 'פנים': 0.167, 'בריאות': 0.167, 'חינוך': 0.333}\t\t2.000000\n",
      "\tהציונות הדתית:\t\t{'חוץ': 0.327, 'בטחון': 0.653, 'אוצר': 0.327, 'בט\"פ': 0.98, 'משפטים': 0.653, 'פנים': 0.327, 'בריאות': 0.653, 'חינוך': 0.653}\t\t4.573000\n",
      "\tש\"ס:\t\t{'חוץ': 0.253, 'בטחון': 0.253, 'אוצר': 1.012, 'בט\"פ': 0.253, 'משפטים': 0.506, 'פנים': 1.518, 'בריאות': 1.012, 'חינוך': 1.012}\t\t5.819000\n",
      "\tאגודת ישראל:\t\t{'חוץ': 0.61, 'בטחון': 0.61, 'אוצר': 0.61, 'בט\"פ': 0.61, 'משפטים': 0.61, 'פנים': 1.219, 'בריאות': 2.438, 'חינוך': 2.438}\t\t9.145000\n"
     ]
    }
   ],
   "source": [
    "import input\n",
    "input.logger.addHandler(logging.StreamHandler())\n",
    "input.logger.setLevel(logging.INFO)\n",
    "\n",
    "rows = input.read_rows(spreadsheet)\n",
    "agents, items, entitlement_normalized_preferences  = input.analyze_rows(rows)"
   ]
  },
  {
   "cell_type": "code",
   "execution_count": 3,
   "metadata": {},
   "outputs": [
    {
     "name": "stderr",
     "output_type": "stream",
     "text": [
      "leximin allocation: הליכוד gets { 100.0% of חוץ, 100.0% of בטחון, 100.0% of אוצר, 27.602% of משפטים, 4.298% of פנים, 40.412% of בריאות, 100.0% of חינוך} with value 1.45.\n",
      "הציונות הדתית gets { 100.0% of בט\"פ, 72.398% of משפטים} with value 1.45.\n",
      "ש\"ס gets { 95.702% of פנים} with value 1.45.\n",
      "אגודת ישראל gets { 59.588% of בריאות} with value 1.45.\n",
      "\n",
      "bounded sharing allocation: הליכוד gets { 100.0% of חוץ, 100.0% of בטחון, 100.0% of אוצר, 27.602% of משפטים, 4.298% of פנים, 40.412% of בריאות, 100.0% of חינוך} with value 1.45.\n",
      "הציונות הדתית gets { 100.0% of בט\"פ, 72.398% of משפטים} with value 1.45.\n",
      "ש\"ס gets { 95.702% of פנים} with value 1.45.\n",
      "אגודת ישראל gets { 59.588% of בריאות} with value 1.45.\n",
      "\n",
      "map_agent_to_fractions: {'הליכוד': array([1.   , 1.   , 1.   , 0.   , 0.276, 0.043, 0.404, 1.   ]), 'הציונות הדתית': array([0.   , 0.   , 0.   , 1.   , 0.724, 0.   , 0.   , 0.   ]), 'ש\"ס': array([0.   , 0.   , 0.   , 0.   , 0.   , 0.957, 0.   , 0.   ]), 'אגודת ישראל': array([0.   , 0.   , 0.   , 0.   , 0.   , 0.   , 0.596, 0.   ])}\n"
     ]
    }
   ],
   "source": [
    "import allocate\n",
    "allocate.logger.addHandler(logging.StreamHandler())\n",
    "allocate.logger.setLevel(logging.INFO)\n",
    "\n",
    "map_agent_to_fractions = allocate.allocate(agents, entitlement_normalized_preferences)"
   ]
  },
  {
   "cell_type": "code",
   "execution_count": 7,
   "metadata": {},
   "outputs": [
    {
     "data": {
      "text/plain": [
       "['__builtins__',\n",
       " '__cached__',\n",
       " '__doc__',\n",
       " '__file__',\n",
       " '__loader__',\n",
       " '__name__',\n",
       " '__package__',\n",
       " '__spec__',\n",
       " 'cells',\n",
       " 'gspread',\n",
       " 'logger',\n",
       " 'logging',\n",
       " 'worksheet']"
      ]
     },
     "execution_count": 7,
     "metadata": {},
     "output_type": "execute_result"
    }
   ],
   "source": [
    "import output\n",
    "dir(output)\n"
   ]
  },
  {
   "cell_type": "code",
   "execution_count": 8,
   "metadata": {},
   "outputs": [
    {
     "data": {
      "text/plain": [
       "<Worksheet 'output' id:236568254>"
      ]
     },
     "execution_count": 8,
     "metadata": {},
     "output_type": "execute_result"
    }
   ],
   "source": [
    "new_row_count = len(agents)+2\n",
    "new_col_count = len(items)+5\n",
    "output_sheet = output.worksheet(spreadsheet, new_row_count, new_col_count)\n",
    "output_sheet\n",
    "\n",
    "# input_range = input.range(1, 1, len(rows), len(rows[0]))\n",
    "# output.update_cells(input_range)"
   ]
  },
  {
   "cell_type": "code",
   "execution_count": 10,
   "metadata": {},
   "outputs": [
    {
     "data": {
      "text/plain": [
       "{'spreadsheetId': '1tJPV-y-r1TAx5FqbrqecKPJMeKHTtIDeiYck8eLoGKY',\n",
       " 'clearedRange': 'output!A1:M1001'}"
      ]
     },
     "execution_count": 10,
     "metadata": {},
     "output_type": "execute_result"
    }
   ],
   "source": [
    "output_sheet.clear()"
   ]
  },
  {
   "cell_type": "code",
   "execution_count": 14,
   "metadata": {},
   "outputs": [
    {
     "data": {
      "text/plain": [
       "{'spreadsheetId': '1tJPV-y-r1TAx5FqbrqecKPJMeKHTtIDeiYck8eLoGKY',\n",
       " 'updatedRange': 'output!A1:B6',\n",
       " 'updatedRows': 6,\n",
       " 'updatedColumns': 2,\n",
       " 'updatedCells': 12}"
      ]
     },
     "execution_count": 14,
     "metadata": {},
     "output_type": "execute_result"
    }
   ],
   "source": [
    "# Insert headings:\n",
    "new_cells = output.cells(rows, agents, items, map_agent_to_fractions)\n",
    "# new_cells = []\n",
    "# new_cells += [gspread.Cell(i+1, 1, \"=input!\"+gspread.utils.rowcol_to_a1(i+1,1)) for i in range(len(rows))]  # Copy column 1\n",
    "# new_cells += [gspread.Cell(i+1, 2, \"=input!\"+gspread.utils.rowcol_to_a1(i+1,2)) for i in range(len(rows))]  # Copy column 2\n",
    "output_sheet.update_cells(new_cells, value_input_option='USER_ENTERED')"
   ]
  },
  {
   "cell_type": "code",
   "execution_count": 12,
   "metadata": {},
   "outputs": [
    {
     "data": {
      "text/plain": [
       "{'spreadsheetId': '1tJPV-y-r1TAx5FqbrqecKPJMeKHTtIDeiYck8eLoGKY',\n",
       " 'replies': [{}]}"
      ]
     },
     "execution_count": 12,
     "metadata": {},
     "output_type": "execute_result"
    }
   ],
   "source": [
    "# Change the cell format:\n",
    "first_cell = gspread.utils.rowcol_to_a1(2, 3)\n",
    "last_cell = gspread.utils.rowcol_to_a1(len(agents)+2, len(items)+5)\n",
    "output_sheet.format(f\"{first_cell}:{last_cell}\", {\"numberFormat\": {\"type\": \"PERCENT\", \"pattern\": \"##.#%\"}})"
   ]
  },
  {
   "cell_type": "code",
   "execution_count": null,
   "metadata": {},
   "outputs": [],
   "source": []
  }
 ],
 "metadata": {
  "kernelspec": {
   "display_name": "Python 3.8.10 ('.venv38linux': venv)",
   "language": "python",
   "name": "python3"
  },
  "language_info": {
   "codemirror_mode": {
    "name": "ipython",
    "version": 3
   },
   "file_extension": ".py",
   "mimetype": "text/x-python",
   "name": "python",
   "nbconvert_exporter": "python",
   "pygments_lexer": "ipython3",
   "version": "3.8.10"
  },
  "orig_nbformat": 4,
  "vscode": {
   "interpreter": {
    "hash": "6cd4aa5b12eabc8e5049b78ef7f0922161955dd7fc4450fb6e653aecfe5984bc"
   }
  }
 },
 "nbformat": 4,
 "nbformat_minor": 2
}
