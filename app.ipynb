{
 "cells": [
  {
   "cell_type": "code",
   "execution_count": 98,
   "metadata": {},
   "outputs": [
    {
     "name": "stdout",
     "output_type": "stream",
     "text": [
      "Rows:  1000 Cols:  27\n",
      "[['מפלגה  v  ', 'מנדטים v   משרד >', 'חוץ', 'בטחון', 'אוצר', 'בט\"פ', 'משפטים', 'פנים', 'בריאות', '', 'סה\"כ'], ['הליכוד', '32', '20', '20', '20', '10', '10', '10', '10', '', '100'], ['הציונות הדתית', '14', '10', '20', '10', '30', '20', '10', '20', '', '120'], ['ש\"ס', '11', '5', '5', '20', '5', '10', '30', '20', '', '95'], ['אגודת ישראל', '7', '5', '5', '5', '5', '5', '10', '20', '', '55'], ['סה\"כ', '64', '', '', '', '', '', '', '', '', '']]\n"
     ]
    }
   ],
   "source": [
    "import gspread\n",
    "import fairpy\n",
    "\n",
    "account = gspread.service_account(\"credentials.json\")\n",
    "spreadsheet = account.open(\"FairDivision\")\n",
    "input = spreadsheet.worksheet(\"input\")\n",
    "print(\"Rows: \", input.row_count, \"Cols: \", input.col_count)\n",
    "rows = input.get_all_values()\n",
    "print(rows)"
   ]
  },
  {
   "cell_type": "code",
   "execution_count": 99,
   "metadata": {},
   "outputs": [
    {
     "data": {
      "text/plain": [
       "{'spreadsheetId': '1tJPV-y-r1TAx5FqbrqecKPJMeKHTtIDeiYck8eLoGKY',\n",
       " 'updatedRange': 'output!A1:K6',\n",
       " 'updatedRows': 6,\n",
       " 'updatedColumns': 11,\n",
       " 'updatedCells': 66}"
      ]
     },
     "execution_count": 99,
     "metadata": {},
     "output_type": "execute_result"
    }
   ],
   "source": [
    "\n",
    "try:\n",
    "\toutput = spreadsheet.worksheet(\"output\")\n",
    "except gspread.WorksheetNotFound:\n",
    "\toutput = spreadsheet.add_worksheet(title=\"output\", rows=len(agents)+2, cols=len(items)+3)\n",
    "\t# TODO: change worksheet direction to RTL\n",
    "\t# I did not find here https://docs.gspread.org/en/latest/api/models/worksheet.html#id1   how to do this.\n",
    "input_range = input.range(1, 1, len(rows), len(rows[0]))\n",
    "output.update_cells(input_range)\n"
   ]
  },
  {
   "cell_type": "markdown",
   "metadata": {},
   "source": [
    "## Read input"
   ]
  },
  {
   "cell_type": "code",
   "execution_count": 106,
   "metadata": {},
   "outputs": [
    {
     "name": "stdout",
     "output_type": "stream",
     "text": [
      "items:  ['חוץ', 'בטחון', 'אוצר', 'בט\"פ', 'משפטים', 'פנים', 'בריאות']\n"
     ]
    }
   ],
   "source": [
    "items = rows[0][2:-1]  # remove agent names, entitlements, and total\n",
    "items.remove('')\n",
    "print(\"items: \", items)"
   ]
  },
  {
   "cell_type": "code",
   "execution_count": 107,
   "metadata": {},
   "outputs": [
    {
     "name": "stdout",
     "output_type": "stream",
     "text": [
      "agents:  ['הליכוד', 'הציונות הדתית', 'ש\"ס', 'אגודת ישראל']\n"
     ]
    }
   ],
   "source": [
    "rows_of_agents = rows[1:-1]    # remove item names and total\n",
    "agents = [row[0] for row in rows_of_agents]         \n",
    "print(\"agents: \", agents)"
   ]
  },
  {
   "cell_type": "code",
   "execution_count": 108,
   "metadata": {},
   "outputs": [
    {
     "name": "stdout",
     "output_type": "stream",
     "text": [
      "entitlements:  ['32', '14', '11', '7']\n"
     ]
    }
   ],
   "source": [
    "entitlements = [row[1] for row in rows_of_agents]   \n",
    "print(\"entitlements: \", entitlements)"
   ]
  },
  {
   "cell_type": "code",
   "execution_count": 111,
   "metadata": {},
   "outputs": [
    {
     "name": "stdout",
     "output_type": "stream",
     "text": [
      "preferences:  {'הליכוד': {'חוץ': 20.0, 'בטחון': 20.0, 'אוצר': 20.0, 'בט\"פ': 10.0, 'משפטים': 10.0, 'פנים': 10.0, 'בריאות': 10.0}, 'הציונות הדתית': {'חוץ': 10.0, 'בטחון': 20.0, 'אוצר': 10.0, 'בט\"פ': 30.0, 'משפטים': 20.0, 'פנים': 10.0, 'בריאות': 20.0}, 'ש\"ס': {'חוץ': 5.0, 'בטחון': 5.0, 'אוצר': 20.0, 'בט\"פ': 5.0, 'משפטים': 10.0, 'פנים': 30.0, 'בריאות': 20.0}, 'אגודת ישראל': {'חוץ': 5.0, 'בטחון': 5.0, 'אוצר': 5.0, 'בט\"פ': 5.0, 'משפטים': 5.0, 'פנים': 10.0, 'בריאות': 20.0}}\n"
     ]
    }
   ],
   "source": [
    "def row_to_prefs(row:list)->list:\n",
    "\tprefs_list = row[2:-1]   # Remove party name, party entitlement, and total\n",
    "\tprefs_dict = {}\n",
    "\tfor o in range(len(items)):\n",
    "\t\tvalue = prefs_list[o]\n",
    "\t\tvalue = 0.0 if value=='' else float(value)\n",
    "\t\tprefs_dict[items[o]] = value\n",
    "\treturn prefs_dict\n",
    "preferences = {row[0]: row_to_prefs(row) for row in rows_of_agents}\n",
    "print(\"preferences: \",preferences)"
   ]
  },
  {
   "cell_type": "code",
   "execution_count": 112,
   "metadata": {},
   "outputs": [
    {
     "data": {
      "text/plain": [
       "{'חוץ': 20.0,\n",
       " 'בטחון': 20.0,\n",
       " 'אוצר': 20.0,\n",
       " 'בט\"פ': 10.0,\n",
       " 'משפטים': 10.0,\n",
       " 'פנים': 10.0,\n",
       " 'בריאות': 10.0}"
      ]
     },
     "execution_count": 112,
     "metadata": {},
     "output_type": "execute_result"
    }
   ],
   "source": [
    "preferences[agents[0]]"
   ]
  },
  {
   "cell_type": "code",
   "execution_count": 113,
   "metadata": {},
   "outputs": [
    {
     "data": {
      "text/plain": [
       "הליכוד gets { 61.364% of חוץ, 100.0% of בטחון} with value 32.3.\n",
       "הציונות הדתית gets { 100.0% of בט\"פ, 11.364% of משפטים} with value 32.3.\n",
       "ש\"ס gets { 100.0% of אוצר, 40.909% of פנים} with value 32.3.\n",
       "אגודת ישראל gets { 38.636% of חוץ, 88.636% of משפטים, 59.091% of פנים, 100.0% of בריאות} with value 32.3."
      ]
     },
     "execution_count": 113,
     "metadata": {},
     "output_type": "execute_result"
    }
   ],
   "source": [
    "allocation = fairpy.items.leximin_optimal_allocation(preferences)\n",
    "allocation"
   ]
  },
  {
   "cell_type": "code",
   "execution_count": 114,
   "metadata": {},
   "outputs": [
    {
     "data": {
      "text/plain": [
       "{'הליכוד': array([ 0.61363636,  1.        , -0.        , -0.        , -0.        ,\n",
       "        -0.        , -0.        ]),\n",
       " 'הציונות הדתית': array([-0.        , -0.        , -0.        ,  1.        ,  0.11363636,\n",
       "        -0.        , -0.        ]),\n",
       " 'ש\"ס': array([-0.        , -0.        ,  1.        , -0.        , -0.        ,\n",
       "         0.40909091, -0.        ]),\n",
       " 'אגודת ישראל': array([ 0.38636364, -0.        , -0.        , -0.        ,  0.88636364,\n",
       "         0.59090909,  1.        ])}"
      ]
     },
     "execution_count": 114,
     "metadata": {},
     "output_type": "execute_result"
    }
   ],
   "source": [
    "map_agent_to_fractions = {agents[i]: allocation.bundles[i].fractions for i in range(len(agents))}\n",
    "map_agent_to_fractions"
   ]
  },
  {
   "cell_type": "code",
   "execution_count": 115,
   "metadata": {},
   "outputs": [
    {
     "data": {
      "text/plain": [
       "{'הליכוד': 32.27272727272727,\n",
       " 'הציונות הדתית': 32.27272727272727,\n",
       " 'ש\"ס': 32.27272727272727,\n",
       " 'אגודת ישראל': 32.272727272727266}"
      ]
     },
     "execution_count": 115,
     "metadata": {},
     "output_type": "execute_result"
    }
   ],
   "source": [
    "utility_profile = allocation.utility_profile()\n",
    "map_agent_to_utility = dict(zip(agents, utility_profile))\n",
    "map_agent_to_utility"
   ]
  },
  {
   "cell_type": "markdown",
   "metadata": {},
   "source": [
    "## Create output"
   ]
  },
  {
   "cell_type": "markdown",
   "metadata": {},
   "source": []
  },
  {
   "cell_type": "code",
   "execution_count": 118,
   "metadata": {},
   "outputs": [
    {
     "name": "stdout",
     "output_type": "stream",
     "text": [
      "[ 0.61363636  1.         -0.         -0.         -0.         -0.\n",
      " -0.        ]\n",
      "[-0.         -0.         -0.          1.          0.11363636 -0.\n",
      " -0.        ]\n",
      "[-0.         -0.          1.         -0.         -0.          0.40909091\n",
      " -0.        ]\n",
      "[ 0.38636364 -0.         -0.         -0.          0.88636364  0.59090909\n",
      "  1.        ]\n"
     ]
    }
   ],
   "source": [
    "for i in range(len(agents)):\n",
    "\tbundle_i = map_agent_to_fractions[agents[i]]\n",
    "\tprint(agents[i], \": \", bundle_i)\n",
    "\tfor o in range(len(items)):\n",
    "\t\tfraction_i_o = map_agent_to_fractions[agents[i]][o]\n",
    "\t\t# print(fraction_i_o)\n",
    "\t\toutput.update_cell(i+2, o+3, fraction_i_o)"
   ]
  },
  {
   "cell_type": "code",
   "execution_count": 119,
   "metadata": {},
   "outputs": [
    {
     "data": {
      "text/plain": [
       "{'spreadsheetId': '1tJPV-y-r1TAx5FqbrqecKPJMeKHTtIDeiYck8eLoGKY',\n",
       " 'updatedRange': 'output!K1',\n",
       " 'updatedRows': 1,\n",
       " 'updatedColumns': 1,\n",
       " 'updatedCells': 1}"
      ]
     },
     "execution_count": 119,
     "metadata": {},
     "output_type": "execute_result"
    }
   ],
   "source": [
    "utility_column = len(items)+4\n",
    "output.update_cell(1, utility_column, \"תועלת\")"
   ]
  },
  {
   "cell_type": "code",
   "execution_count": 126,
   "metadata": {},
   "outputs": [],
   "source": [
    "for i in range(len(agents)):\n",
    "\t# output.update_cell(i+2, utility_column, utility_profile[i])\n",
    "\trow_num = i+2\n",
    "\tfirst_cell = gspread.utils.rowcol_to_a1(row_num, 3)\n",
    "\tlast_cell = gspread.utils.rowcol_to_a1(row_num, len(items)+2)\n",
    "\trange_a1 = f\"{first_cell}:{last_cell}\"\n",
    "\toutput.update_cell(row_num, utility_column, f\"=SUMPRODUCT(input!{range_a1},output!{range_a1})\")"
   ]
  },
  {
   "cell_type": "code",
   "execution_count": 122,
   "metadata": {},
   "outputs": [
    {
     "data": {
      "text/plain": [
       "'D3'"
      ]
     },
     "execution_count": 122,
     "metadata": {},
     "output_type": "execute_result"
    }
   ],
   "source": [
    "gspread.utils.rowcol_to_a1(3, 4)"
   ]
  },
  {
   "cell_type": "code",
   "execution_count": null,
   "metadata": {},
   "outputs": [],
   "source": []
  }
 ],
 "metadata": {
  "kernelspec": {
   "display_name": "Python 3.8.10 ('.venv38linux': venv)",
   "language": "python",
   "name": "python3"
  },
  "language_info": {
   "codemirror_mode": {
    "name": "ipython",
    "version": 3
   },
   "file_extension": ".py",
   "mimetype": "text/x-python",
   "name": "python",
   "nbconvert_exporter": "python",
   "pygments_lexer": "ipython3",
   "version": "3.8.10"
  },
  "orig_nbformat": 4,
  "vscode": {
   "interpreter": {
    "hash": "6cd4aa5b12eabc8e5049b78ef7f0922161955dd7fc4450fb6e653aecfe5984bc"
   }
  }
 },
 "nbformat": 4,
 "nbformat_minor": 2
}
