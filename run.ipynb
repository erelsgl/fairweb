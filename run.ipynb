{
 "cells": [
  {
   "cell_type": "code",
   "execution_count": 1,
   "metadata": {},
   "outputs": [
    {
     "data": {
      "text/plain": [
       "<Spreadsheet 'FairDivision' id:1tJPV-y-r1TAx5FqbrqecKPJMeKHTtIDeiYck8eLoGKY>"
      ]
     },
     "execution_count": 1,
     "metadata": {},
     "output_type": "execute_result"
    }
   ],
   "source": [
    "import gspread, logging\n",
    "account = gspread.service_account(\"credentials.json\")\n",
    "spreadsheet = account.open(\"FairDivision\")\n",
    "spreadsheet"
   ]
  },
  {
   "cell_type": "code",
   "execution_count": 2,
   "metadata": {},
   "outputs": [
    {
     "name": "stderr",
     "output_type": "stream",
     "text": [
      "Rows: 1000, Cols: 29\n",
      "items: ['חוץ', 'בטחון', 'אוצר', 'בט\"פ', 'משפטים', 'פנים', 'בריאות', 'חינוך', 'וועדת הכספים']\n",
      "agents: ['הליכוד', 'הציונות הדתית', 'ש\"ס', 'אגודת ישראל']\n",
      "entitlements: {'הליכוד': 32, 'הציונות הדתית': 14, 'ש\"ס': 11, 'אגודת ישראל': 7}, total: 64.000000\n",
      "raw_preferences: \n",
      "\tהליכוד:\t\t{'חוץ': 20.0, 'בטחון': 20.0, 'אוצר': 20.0, 'בט\"פ': 10.0, 'משפטים': 10.0, 'פנים': 10.0, 'בריאות': 10.0, 'חינוך': 20.0, 'וועדת הכספים': 20.0}\t\t140.000000\n",
      "\tהציונות הדתית:\t\t{'חוץ': 10.0, 'בטחון': 20.0, 'אוצר': 10.0, 'בט\"פ': 30.0, 'משפטים': 20.0, 'פנים': 10.0, 'בריאות': 20.0, 'חינוך': 20.0, 'וועדת הכספים': 10.0}\t\t150.000000\n",
      "\tש\"ס:\t\t{'חוץ': 5.0, 'בטחון': 5.0, 'אוצר': 20.0, 'בט\"פ': 5.0, 'משפטים': 10.0, 'פנים': 30.0, 'בריאות': 20.0, 'חינוך': 20.0, 'וועדת הכספים': 25.0}\t\t140.000000\n",
      "\tאגודת ישראל:\t\t{'חוץ': 5.0, 'בטחון': 5.0, 'אוצר': 5.0, 'בט\"פ': 5.0, 'משפטים': 5.0, 'פנים': 10.0, 'בריאות': 10.0, 'חינוך': 20.0, 'וועדת הכספים': 40.0}\t\t105.000000\n",
      "normalized_preferences: \n",
      "\tהליכוד:\t\t{'חוץ': 9.143, 'בטחון': 9.143, 'אוצר': 9.143, 'בט\"פ': 4.571, 'משפטים': 4.571, 'פנים': 4.571, 'בריאות': 4.571, 'חינוך': 9.143, 'וועדת הכספים': 9.143}\t\t63.999000\n",
      "\tהציונות הדתית:\t\t{'חוץ': 4.267, 'בטחון': 8.533, 'אוצר': 4.267, 'בט\"פ': 12.8, 'משפטים': 8.533, 'פנים': 4.267, 'בריאות': 8.533, 'חינוך': 8.533, 'וועדת הכספים': 4.267}\t\t64.000000\n",
      "\tש\"ס:\t\t{'חוץ': 2.286, 'בטחון': 2.286, 'אוצר': 9.143, 'בט\"פ': 2.286, 'משפטים': 4.571, 'פנים': 13.714, 'בריאות': 9.143, 'חינוך': 9.143, 'וועדת הכספים': 11.429}\t\t64.001000\n",
      "\tאגודת ישראל:\t\t{'חוץ': 3.048, 'בטחון': 3.048, 'אוצר': 3.048, 'בט\"פ': 3.048, 'משפטים': 3.048, 'פנים': 6.095, 'בריאות': 6.095, 'חינוך': 12.19, 'וועדת הכספים': 24.381}\t\t64.001000\n",
      "entitlement_normalized_preferences: \n",
      "\tהליכוד:\t\t{'חוץ': 0.286, 'בטחון': 0.286, 'אוצר': 0.286, 'בט\"פ': 0.143, 'משפטים': 0.143, 'פנים': 0.143, 'בריאות': 0.143, 'חינוך': 0.286, 'וועדת הכספים': 0.286}\t\t2.002000\n",
      "\tהציונות הדתית:\t\t{'חוץ': 0.305, 'בטחון': 0.61, 'אוצר': 0.305, 'בט\"פ': 0.914, 'משפטים': 0.61, 'פנים': 0.305, 'בריאות': 0.61, 'חינוך': 0.61, 'וועדת הכספים': 0.305}\t\t4.574000\n",
      "\tש\"ס:\t\t{'חוץ': 0.208, 'בטחון': 0.208, 'אוצר': 0.831, 'בט\"פ': 0.208, 'משפטים': 0.416, 'פנים': 1.247, 'בריאות': 0.831, 'חינוך': 0.831, 'וועדת הכספים': 1.039}\t\t5.819000\n",
      "\tאגודת ישראל:\t\t{'חוץ': 0.435, 'בטחון': 0.435, 'אוצר': 0.435, 'בט\"פ': 0.435, 'משפטים': 0.435, 'פנים': 0.871, 'בריאות': 0.871, 'חינוך': 1.741, 'וועדת הכספים': 3.483}\t\t9.141000\n"
     ]
    }
   ],
   "source": [
    "import input\n",
    "input.logger.addHandler(logging.StreamHandler())\n",
    "input.logger.setLevel(logging.INFO)\n",
    "\n",
    "rows = input.read_rows(spreadsheet)\n",
    "agents, items, entitlement_normalized_preferences  = input.analyze_rows(rows)"
   ]
  },
  {
   "cell_type": "code",
   "execution_count": 3,
   "metadata": {},
   "outputs": [
    {
     "name": "stderr",
     "output_type": "stream",
     "text": [
      "leximin allocation: הליכוד gets { 100.0% of חוץ, 100.0% of בטחון, 100.0% of אוצר, 13.634% of משפטים, 76.675% of בריאות, 100.0% of חינוך, 58.632% of וועדת הכספים} with value 1.44.\n",
      "הציונות הדתית gets { 100.0% of בט\"פ, 86.366% of משפטים} with value 1.44.\n",
      "ש\"ס gets { 100.0% of פנים, 23.325% of בריאות} with value 1.44.\n",
      "אגודת ישראל gets { 41.368% of וועדת הכספים} with value 1.44.\n",
      "\n",
      "bounded sharing allocation: הליכוד gets { 100.0% of חוץ, 100.0% of בטחון, 100.0% of אוצר, 13.634% of משפטים, 76.675% of בריאות, 100.0% of חינוך, 58.632% of וועדת הכספים} with value 1.44.\n",
      "הציונות הדתית gets { 100.0% of בט\"פ, 86.366% of משפטים} with value 1.44.\n",
      "ש\"ס gets { 100.0% of פנים, 23.325% of בריאות} with value 1.44.\n",
      "אגודת ישראל gets { 41.368% of וועדת הכספים} with value 1.44.\n",
      "\n",
      "map_agent_to_fractions: {'הליכוד': array([1.   , 1.   , 1.   , 0.   , 0.136, 0.   , 0.767, 1.   , 0.586]), 'הציונות הדתית': array([0.   , 0.   , 0.   , 1.   , 0.864, 0.   , 0.   , 0.   , 0.   ]), 'ש\"ס': array([0.   , 0.   , 0.   , 0.   , 0.   , 1.   , 0.233, 0.   , 0.   ]), 'אגודת ישראל': array([0.   , 0.   , 0.   , 0.   , 0.   , 0.   , 0.   , 0.   , 0.414])}\n"
     ]
    }
   ],
   "source": [
    "import allocate\n",
    "allocate.logger.addHandler(logging.StreamHandler())\n",
    "allocate.logger.setLevel(logging.INFO)\n",
    "\n",
    "map_agent_to_fractions = allocate.allocate(agents, entitlement_normalized_preferences)"
   ]
  },
  {
   "cell_type": "code",
   "execution_count": 10,
   "metadata": {},
   "outputs": [
    {
     "name": "stdout",
     "output_type": "stream",
     "text": [
      "output version 2\n"
     ]
    },
    {
     "data": {
      "text/plain": [
       "<Worksheet 'output' id:236568254>"
      ]
     },
     "execution_count": 10,
     "metadata": {},
     "output_type": "execute_result"
    }
   ],
   "source": [
    "import output\n",
    "import importlib\n",
    "importlib.reload(output)\n",
    "\n",
    "new_row_count = len(agents)+2\n",
    "new_col_count = len(items)+5\n",
    "output_sheet = output.worksheet(spreadsheet, new_row_count, new_col_count)\n",
    "output_sheet\n",
    "\n",
    "# input_range = input.range(1, 1, len(rows), len(rows[0]))\n",
    "# output.update_cells(input_range)"
   ]
  },
  {
   "cell_type": "code",
   "execution_count": 11,
   "metadata": {},
   "outputs": [
    {
     "data": {
      "text/plain": [
       "{'spreadsheetId': '1tJPV-y-r1TAx5FqbrqecKPJMeKHTtIDeiYck8eLoGKY',\n",
       " 'clearedRange': 'output!A1:O1001'}"
      ]
     },
     "execution_count": 11,
     "metadata": {},
     "output_type": "execute_result"
    }
   ],
   "source": [
    "output_sheet.clear()"
   ]
  },
  {
   "cell_type": "code",
   "execution_count": 12,
   "metadata": {},
   "outputs": [
    {
     "name": "stdout",
     "output_type": "stream",
     "text": [
      "הליכוד :  [1.    1.    1.    0.    0.136 0.    0.767 1.    0.586]\n",
      "הציונות הדתית :  [0.    0.    0.    1.    0.864 0.    0.    0.    0.   ]\n",
      "ש\"ס :  [0.    0.    0.    0.    0.    1.    0.233 0.    0.   ]\n",
      "אגודת ישראל :  [0.    0.    0.    0.    0.    0.    0.    0.    0.414]\n"
     ]
    },
    {
     "data": {
      "text/plain": [
       "{'spreadsheetId': '1tJPV-y-r1TAx5FqbrqecKPJMeKHTtIDeiYck8eLoGKY',\n",
       " 'updatedRange': 'output!A1:O6',\n",
       " 'updatedRows': 6,\n",
       " 'updatedColumns': 14,\n",
       " 'updatedCells': 81}"
      ]
     },
     "execution_count": 12,
     "metadata": {},
     "output_type": "execute_result"
    }
   ],
   "source": [
    "# Insert headings:\n",
    "new_cells = output.cells(rows, agents, items, map_agent_to_fractions)\n",
    "# new_cells = []\n",
    "# new_cells += [gspread.Cell(i+1, 1, \"=input!\"+gspread.utils.rowcol_to_a1(i+1,1)) for i in range(len(rows))]  # Copy column 1\n",
    "# new_cells += [gspread.Cell(i+1, 2, \"=input!\"+gspread.utils.rowcol_to_a1(i+1,2)) for i in range(len(rows))]  # Copy column 2\n",
    "output_sheet.update_cells(new_cells, value_input_option='USER_ENTERED')"
   ]
  },
  {
   "cell_type": "code",
   "execution_count": 12,
   "metadata": {},
   "outputs": [
    {
     "data": {
      "text/plain": [
       "{'spreadsheetId': '1tJPV-y-r1TAx5FqbrqecKPJMeKHTtIDeiYck8eLoGKY',\n",
       " 'replies': [{}]}"
      ]
     },
     "execution_count": 12,
     "metadata": {},
     "output_type": "execute_result"
    }
   ],
   "source": [
    "# Change the cell format:\n",
    "first_cell = gspread.utils.rowcol_to_a1(2, 3)\n",
    "last_cell = gspread.utils.rowcol_to_a1(len(agents)+2, len(items)+5)\n",
    "output_sheet.format(f\"{first_cell}:{last_cell}\", {\"numberFormat\": {\"type\": \"PERCENT\", \"pattern\": \"##.#%\"}})"
   ]
  },
  {
   "cell_type": "code",
   "execution_count": null,
   "metadata": {},
   "outputs": [],
   "source": []
  }
 ],
 "metadata": {
  "kernelspec": {
   "display_name": "Python 3.8.10 ('.venv38linux': venv)",
   "language": "python",
   "name": "python3"
  },
  "language_info": {
   "codemirror_mode": {
    "name": "ipython",
    "version": 3
   },
   "file_extension": ".py",
   "mimetype": "text/x-python",
   "name": "python",
   "nbconvert_exporter": "python",
   "pygments_lexer": "ipython3",
   "version": "3.8.10"
  },
  "orig_nbformat": 4,
  "vscode": {
   "interpreter": {
    "hash": "6cd4aa5b12eabc8e5049b78ef7f0922161955dd7fc4450fb6e653aecfe5984bc"
   }
  }
 },
 "nbformat": 4,
 "nbformat_minor": 2
}
